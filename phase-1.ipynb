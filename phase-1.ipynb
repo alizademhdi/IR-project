{
 "cells": [
  {
   "attachments": {},
   "cell_type": "markdown",
   "metadata": {},
   "source": [
    "<div dir=\"rtl\">\n",
    "<font face=\"XB Zar\" size=6>\n",
    "<h1>مقدمه</h1>\n",
    "</font>\n",
    "<font face=\"XB Zar\" size=3>\n",
    "این تمرین به پیش‌پردازش متن، اصلاح پرسمان، ساخت نمایه، بازیابی boolean و فشرده‌سازی نمایه می‌پردازد.\n",
    "<br>\n",
    "دیتاستی که در اختبار شما قرار گرفته است شامل چکیده مقالات و id آن‌ها می‌باشد.\n",
    "</font>\n",
    "</div>"
   ]
  },
  {
   "cell_type": "code",
   "execution_count": 1,
   "metadata": {},
   "outputs": [],
   "source": [
    "import nltk\n",
    "from nltk.stem import PorterStemmer\n",
    "from nltk.tokenize import word_tokenize\n",
    "import re\n"
   ]
  },
  {
   "cell_type": "markdown",
   "metadata": {},
   "source": [
    "<div dir='rtl'>\n",
    "<h1> آماده‌سازی دیتاست</h1>\n",
    "<p>\n",
    "دیتاستی که در اختیار شما قرار گرفته است، دارای سطر‌هایی می‌باشد که دارای مقدار NaN می‌باشد. برای اینکه بتوانید با این دیتاست کار کنید، باید ابتدا این سطر‌ها را حذف کنید.\n",
    "</p>\n",
    "</div>"
   ]
  },
  {
   "cell_type": "code",
   "execution_count": null,
   "metadata": {},
   "outputs": [],
   "source": [
    "# load the dataset and remove rows with missing values"
   ]
  },
  {
   "cell_type": "markdown",
   "metadata": {},
   "source": [
    "<div dir='rtl'>\n",
    "<h1> Preprocessing (پیش پردازش)</h1>\n",
    "<p>\n",
    "بسیاری از داده ‌ها دارای مقادیر زیادی اطلاعات اضافه هستند که در پردازش ها به آن نیازی نیست و یا باعث ایجاد خطا میشوند.\n",
    "دراین بخش داده را از دیتابیس مورد نظر خوانده\n",
    "  و سپس پیش پردازش های مورد نیاز را اعمال کنید تا متن پیش پردازش شده را تولید کنید.\n",
    "پس از اتمام پیش پردازش سایر عملیات گفته شده در ادامه را بر\n",
    "روی متن ایجاد شده انجام میدهیم.\n",
    "\n",
    "\n",
    "کلاس\n",
    "\"Preprocessor\"\n",
    "عملیات پیش پردازش را انجام میدهد. نام توابع عمل های مورد نظر نوشته شده است و که با توجه به آن باید کد مخصوص هر یک نوشته شود. تابع\n",
    "\"preprocessor\"\n",
    "تابع اصلی این کلاس است که متن بدون پیش پردازش را گرفته و پردازش های مورد نظر را در آن اعمال میکند و متن مورد نظر را ایجاد میکند.\n",
    "\n",
    "در این بخش میتوانید از کتابخانه های آماده مانند\n",
    "<a href=\"https://www.nltk.org/\">NLTK</a>\n",
    "و\n",
    "<a href=\"https://spacy.io/\">SpaCy</a>\n",
    "استفاده کنید.\n",
    "</p>\n",
    "</div>"
   ]
  },
  {
   "cell_type": "code",
   "execution_count": null,
   "metadata": {},
   "outputs": [],
   "source": [
    "\n",
    "class Preprocessor:\n",
    "\n",
    "    def __init__(self, stopwords_path):\n",
    "        self.stopwords = []\n",
    "        self.ps = PorterStemmer()\n",
    "\n",
    "\n",
    "    def preprocess(self, text):\n",
    "        text = self.remove_links(text)\n",
    "        text = self.remove_punctuations(text)\n",
    "        tokens = self.word_tokenize(text)\n",
    "        tokens = self.normalize(tokens)\n",
    "        tokems = self.remove_stopwords(tokens)\n",
    "        return\n",
    "\n",
    "    def normalize(self, tokens):\n",
    "        tokens = [token.lower for token in tokens]\n",
    "        tokens = self.ps.stem(tokens)\n",
    "        return tokens\n",
    "    \n",
    "    def remove_links(self, text):\n",
    "        text = re.sub('http[s]?://\\S+', '', text)        \n",
    "        return text\n",
    "\n",
    "    def remove_punctuations(self, text):\n",
    "        text = ''.join(filter(lambda x: x.isalpha() or x.isdigit() or x.isspace(), text))\n",
    "        return text\n",
    "\n",
    "    def word_tokenize(self, text):\n",
    "        tokenized_text = word_tokenize(text)\n",
    "        return tokenized_text\n",
    "\n",
    "    def remove_stopwords(self, words):\n",
    "        return [word for word in words if word not in self.stopwords]\n"
   ]
  },
  {
   "cell_type": "markdown",
   "metadata": {},
   "source": [
    "<div dir='rtl'>\n",
    "<h1>ساخت نمایه</h1>\n",
    "<p>\n",
    "شما در حال توسعه یک موتور جستجوی سریع هستید که از نمایه سازی پویا پشتیبانی می کند. موتور جستجو اسناد جدید را در قالب دسته‌هایی کوچک‌تر   \n",
    "(batch) هندل می‌کند. در پایان هر روز، این دسته‌ها با استفاده از استراتژی ادغام لگاریتمی ادغام می شوند. هدف به حداقل رساندن هزینه ادغام است.  \n",
    "مراحلی که باید برای حل این مسئله انجام دهید عبارتند از:\n",
    "<li>توکن‌بندی و نرمال‌سازی متن از اسناد.</li>\n",
    "    <li>ایجاد یک index مرتب‌ شده برای هر دسته از اسناد.</li>\n",
    "    <li>ادغام بهینه چند دسته از indexها با استفاده از یک استراتژی ادغام لگاریتمی.</li>\n",
    "وظیفه شما این است که بخش‌های خالی <strong>(مشخص شده به‌صورت {TODO})</strong> کد را پر کنید تا موتور جستجو عملی شود.\n",
    "</p>\n",
    "</div>"
   ]
  },
  {
   "cell_type": "markdown",
   "metadata": {},
   "source": [
    "<div dir='rtl'>\n",
    "<h3> دستورات </h3>\n",
    "<li>متد <code>sort_based_index_construction</code> از <code>DocumentBatch</code>:</li>\n",
    "<p>هر سند را با استفاده از تابع‌هایی که در قسمت قبل نوشتید، عمل preprocessing را روی آن انجام دهید.</p>\n",
    "<p>برای هر توکن، شناسه سند را به فهرست معکوس (inverted index) برای آن توکن اضافه کنید.</p>\n",
    "<li>متد <code>add_batch</code> در <code>FastSearchEngine</code></li>\n",
    "<p>فهرست معکوس برای دسته (batch) را ایجاد کنید.</p>\n",
    "<p>این دسته را به فهرست‌های روزانه اضافه کنید.</p>\n",
    "<li>متد <code>end_of_day_merge</code> از <code>FastSearchEngine:</code></li>\n",
    "<p>استراتژی ادغام لگاریتمی را پیاده‌سازی کنید تا به صورت بهینه فهرست‌های روزانه را با فهرست اصلی ادغام کنید.</p>"
   ]
  },
  {
   "cell_type": "code",
   "execution_count": null,
   "metadata": {},
   "outputs": [],
   "source": [
    "from collections import defaultdict, deque\n",
    "\n",
    "class DocumentBatch:\n",
    "    def __init__(self, docs):\n",
    "        self.documents = docs\n",
    "        self.index = defaultdict(set)\n",
    "\n",
    "    def sort_based_index_construction(self):\n",
    "        # {TODO}: Build an inverted index for the batch\n",
    "        pass\n",
    "\n",
    "class FastSearchEngine:\n",
    "    def __init__(self):\n",
    "        self.main_index = defaultdict(set)\n",
    "        self.daily_indices = deque()\n",
    "\n",
    "    def add_batch(self, batch: DocumentBatch):\n",
    "        # {TODO}: Incorporate the new batch into the daily indices\n",
    "        pass\n",
    "\n",
    "    def end_of_day_logarithmic_merge(self):\n",
    "        # {TODO}: Implement the logarithmic merge strategy\n",
    "        pass\n",
    "\n",
    "\n",
    "# Divide the documents into groups to distribute them between servers. For example, let's consider two servers here.\n",
    "# Divide the documents of each server into batches, for instance, five batches.\n",
    "# Create an index for each batch and for each server, then merge them into the main index at the end of the day.\n",
    "# Repeat this process until all documents are processed.\n",
    "\n",
    "\n",
    "# Usage example\n",
    "server_a_docs = [\"sample_1\", \"sample_2\", \"sample_3\", \"sample_4\", \"sample_5\", \"sample_6\", \"sample_7\", \"sample_8\", \"sample_9\", \"sample_10\"]\n",
    "server_b_docs = [\"sample_11\", \"sample_12\", \"sample_13\", \"sample_14\", \"sample_15\", \"sample_16\", \"sample_17\", \"sample_18\", \"sample_19\", \"sample_20\"]\n",
    "\n",
    "for i in range(5):\n",
    "    server_a_batch = DocumentBatch(server_a_docs[i*2:i*2+2])\n",
    "    server_b_batch = DocumentBatch(server_b_docs[i*2:i*2+2])\n",
    "\n",
    "    search_engine = FastSearchEngine()\n",
    "    search_engine.add_batch(server_a_batch)\n",
    "    search_engine.add_batch(server_b_batch)\n",
    "\n",
    "    # At end of day\n",
    "    search_engine.end_of_day_logarithmic_merge()\n",
    "\n",
    "# Note that the above was just an example demonstrating the general process.\n",
    "# but you can take two servers and five batches for each server as a constant and implement the process for them.\n",
    "print(search_engine.main_index)\n"
   ]
  },
  {
   "cell_type": "markdown",
   "metadata": {},
   "source": [
    "<div dir='rtl'>\n",
    "<h1>Spell Correction (اصلاح پرسمان)</h1>\n",
    "<p>\n",
    "در بسیاری از اوقات پرسمان دادە شده توسط کاربر، ممکن است ناقص یا دارای غلط املایی باشد. برای رفع این مشکل در بسیاری از موتورهای جستجو راە حل هایی تدارک دیده شدە است. ابتدا این راە حل ها را شرح دهید و بیان کنید که یک موتور جست و جو بر چه اساسی پرسمان های اصلاح شده را به کاربر نمایش می دهد.</p>\n",
    "</div>"
   ]
  },
  {
   "cell_type": "markdown",
   "metadata": {},
   "source": [
    "<div dir='rtl'>\n",
    "<h2>پاسخ سوال بالا</h2>\n",
    "پاسخ‌ خود را در این سلول بنویسید."
   ]
  },
  {
   "cell_type": "markdown",
   "metadata": {},
   "source": [
    "<div dir='rtl'>\n",
    "<p>\n",
    "    در این بخش، ابتدا با استفاده از روش bigram لغات نزدیک به لغات اصلی را پیدا کنید و در آخر با معیار minimum edit distance لغتی جایگزین را برای لغت مورد نظر پیدا کنید.  سپس برای هر پرسمان ورودی کاربر، در صورت اشتباه بودن آن، آن را تصحیح کنید. برای stopword‌ها نیز می‌توانید از لیست موجود که در قسمت‌های قبل ساختید استفاده کنید.\n",
    "</p>\n",
    "</div>"
   ]
  },
  {
   "cell_type": "code",
   "execution_count": null,
   "metadata": {},
   "outputs": [],
   "source": [
    "from typing import List, Dict\n",
    "\n",
    "def create_bigram_index():\n",
    "    \"\"\"\n",
    "    Creates a bigram index for the spell correction\n",
    "\n",
    "    Returns\n",
    "    -------\n",
    "    dict\n",
    "        A dictionary of bigrams and their occurence\n",
    "    \"\"\"\n",
    "    # TODO: Create the bigram index here\n",
    "    bigram: Dict[str, List[str]] = {}\n",
    "    return bigram\n",
    "\n",
    "bigram_index = create_bigram_index()"
   ]
  },
  {
   "cell_type": "code",
   "execution_count": null,
   "metadata": {},
   "outputs": [],
   "source": [
    "def spell_correction(query):\n",
    "  \"\"\"\n",
    "    Correct the give query text, if it is misspelled\n",
    "\n",
    "    Paramters\n",
    "    ---------\n",
    "    query: str\n",
    "        The query text\n",
    "\n",
    "    Returns\n",
    "    ---------\n",
    "    corrected_query: str\n",
    "        The corrected text\n",
    "    \"\"\"\n",
    "  # TODO: correct the query\n",
    "  corrected_query = \"\"\n",
    "\n",
    "  return corrected_query\n",
    "\n",
    "# Example usage\n",
    "user_query = \"Wht is the most populr progarmming lanuage?\"\n",
    "spell_correction(user_query)"
   ]
  },
  {
   "cell_type": "markdown",
   "metadata": {},
   "source": [
    "<div dir='rtl'>\n",
    "<h1> Boolean Retrieval </h1>\n",
    "<p>\n",
    " در این قسمت هدف طراحی یک سامانەی بازیابی اطلاعات boolean می‌باشد. \n",
    "\n",
    "برای این کار ابتدا پیش پردازش‌های مورد نیاز را مانند بخش قبل بر روی متون انجام دهید و در مرحله بعد ماتریس doc−term را ایجاد کنید. در نهایت کلاس BooleanRetrievalModel را تکمیل کنید که شامل توابع preprocess_query و find_siⅿiⅼar_docs است که توضیحات هرکدام در قسمت کد موجود است. هدف نهایی این است که هرگاه کوئری به تابع find_siⅿiⅼar_docs از کلاس BooleanRetrievalModel داده شود، شناسه k تا از داک‌هایی که شامل کوئری داده شده هستند برگردانده شوند.\n",
    "</p>\n",
    "</div>"
   ]
  },
  {
   "cell_type": "code",
   "execution_count": null,
   "metadata": {},
   "outputs": [],
   "source": [
    "# preprocess and tokenize all documents"
   ]
  },
  {
   "cell_type": "code",
   "execution_count": null,
   "metadata": {},
   "outputs": [],
   "source": [
    "def make_doc_term_matrix(documents):\n",
    "    \"\"\"\n",
    "    Create doc_term_matrix by using documents and unique words.\n",
    "    \"\"\"\n",
    "    pass"
   ]
  },
  {
   "cell_type": "code",
   "execution_count": null,
   "metadata": {},
   "outputs": [],
   "source": [
    "class BooleanRetrievalModel:\n",
    "    def __init__(self, doc_term_matrix):\n",
    "        \"\"\"    \n",
    "        Set doc_term_matrix and initialize the model.\n",
    "        \"\"\"\n",
    "\n",
    "    def preprocess_query(self, query):\n",
    "        \"\"\"\n",
    "        Do necessary preprocessing here before using the query to find k similar docs.\n",
    "        Use methods from Preprocess section.\n",
    "        \"\"\"\n",
    "        processed_query = ''\n",
    "        return processed_query\n",
    "    \n",
    "    def find_siⅿiⅼar_docs(self, query, k=20):\n",
    "        processed_query = preprocess_query(query)\n",
    "        \"\"\"\n",
    "        Find k similiar documents.\n",
    "        \"\"\"\n",
    "        similiar_docs = []\n",
    "        return similiar_docs"
   ]
  },
  {
   "cell_type": "markdown",
   "metadata": {},
   "source": [
    "<div dir='rtl'>\n",
    "در این قسمت ۳ کوئری مختلف به دلخواه خود بزنید و لیست داکیومنت‌های مرتبط با آن‌ها را برگردانید. برای کوتاه‌تر شدن لیست جواب در هر کوئری می‌توانید از عملگر‌های منطقی مانند AND استفاده کنید.\n",
    "</div>"
   ]
  },
  {
   "cell_type": "code",
   "execution_count": null,
   "metadata": {},
   "outputs": [],
   "source": [
    "# make 3 queries and find similar docs for each of them"
   ]
  },
  {
   "cell_type": "markdown",
   "metadata": {},
   "source": [
    "<div dir='rtl'>\n",
    "\n",
    "# ذخیره و فشرده‌سازی نمایه\n",
    "در این بخش، در ابتدا دو الگوریتم فشرده‌سازی gamma code و variable byte را پیاده‌سازی کنید.  \n",
    "سپس نمایه را به سه شکل زیر ذخیره کنید:\n",
    "- نمایه‌ی اصلی بدون فشرده‌سازی\n",
    "- نمایه‌ای که با استفاده از gamma code فشرده شده است.\n",
    "- نمایه‌ای که با استفاده از variable byte فشرده شده است.\n",
    "\n",
    "در ادامه اندازه‌ی هر کدام از سه فایل بالا را با استفاده از یک تابع به دست آورده و چاپ کنید.  \n",
    "همچنین باید تابع‌هایی برای decompress کردن نمایه‌های فشرده‌شده پیاده‌سازی کنید.\n",
    "\n",
    "**نکته‌ی ۱:** تمامی نمایه‌ها را نیز در کوئرا ارسال کنید. اگر حجم‌شان بیش‌تر از محدودیت کوئرا است، آن‌ها را در یک مکان دیگر آپلود کرده و لینک آن را در این فایل قرار دهید.  \n",
    "**نکته‌ی ۲:** توابع زیر صرفاً پیشنهادی هستند و هر گونه تغییر تا زمانی که کاربردهای مورد نظر پیاده شود، آزاد است.\n",
    "</div>"
   ]
  },
  {
   "cell_type": "code",
   "execution_count": null,
   "metadata": {},
   "outputs": [],
   "source": [
    "def gamma_encode():\n",
    "    pass\n",
    "\n",
    "def variable_byte_encode():\n",
    "    pass\n"
   ]
  },
  {
   "cell_type": "code",
   "execution_count": null,
   "metadata": {},
   "outputs": [],
   "source": [
    "def gamma_decode():\n",
    "    pass\n",
    "\n",
    "def variable_byte_decode():\n",
    "    pass\n"
   ]
  },
  {
   "cell_type": "code",
   "execution_count": null,
   "metadata": {},
   "outputs": [],
   "source": [
    "def save_index():\n",
    "    pass\n",
    "\n",
    "def load_index():\n",
    "    pass\n",
    "\n",
    "def get_size():\n",
    "    pass"
   ]
  }
 ],
 "metadata": {
  "kernelspec": {
   "display_name": "Python 3",
   "language": "python",
   "name": "python3"
  },
  "language_info": {
   "codemirror_mode": {
    "name": "ipython",
    "version": 3
   },
   "file_extension": ".py",
   "mimetype": "text/x-python",
   "name": "python",
   "nbconvert_exporter": "python",
   "pygments_lexer": "ipython3",
   "version": "3.11.4"
  },
  "orig_nbformat": 4,
  "vscode": {
   "interpreter": {
    "hash": "08ac30a6a1fd2e576b33e03f7d61c3a285d7ee0582c2dd23dde6343ef303ebe9"
   }
  }
 },
 "nbformat": 4,
 "nbformat_minor": 2
}
